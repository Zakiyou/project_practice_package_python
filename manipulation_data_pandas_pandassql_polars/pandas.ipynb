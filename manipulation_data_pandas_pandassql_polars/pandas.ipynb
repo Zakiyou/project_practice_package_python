{
 "cells": [
  {
   "cell_type": "code",
   "execution_count": 1,
   "metadata": {},
   "outputs": [
    {
     "name": "stderr",
     "output_type": "stream",
     "text": [
      "C:\\Users\\ROYAL COMPUTER\\AppData\\Roaming\\Python\\Python312\\site-packages\\tqdm\\auto.py:21: TqdmWarning: IProgress not found. Please update jupyter and ipywidgets. See https://ipywidgets.readthedocs.io/en/stable/user_install.html\n",
      "  from .autonotebook import tqdm as notebook_tqdm\n"
     ]
    }
   ],
   "source": [
    "import pandas as pd\n",
    "\n",
    "df = pd.read_json(\"hf://datasets/yahma/alpaca-cleaned/alpaca_data_cleaned.json\")"
   ]
  },
  {
   "cell_type": "code",
   "execution_count": 2,
   "metadata": {},
   "outputs": [
    {
     "name": "stdout",
     "output_type": "stream",
     "text": [
      "                                         instruction input  \\\n",
      "0               Give three tips for staying healthy.         \n",
      "1                 What are the three primary colors?         \n",
      "2                 Describe the structure of an atom.         \n",
      "3                   How can we reduce air pollution?         \n",
      "4  Pretend you are a project manager of a constru...         \n",
      "\n",
      "                                              output  \n",
      "0  1. Eat a balanced and nutritious diet: Make su...  \n",
      "1  The three primary colors are red, blue, and ye...  \n",
      "2  An atom is the basic building block of all mat...  \n",
      "3  There are several ways to reduce air pollution...  \n",
      "4  I had to make a difficult decision when I was ...  \n"
     ]
    }
   ],
   "source": [
    "print(df.head()) "
   ]
  }
 ],
 "metadata": {
  "kernelspec": {
   "display_name": "Python 3",
   "language": "python",
   "name": "python3"
  },
  "language_info": {
   "codemirror_mode": {
    "name": "ipython",
    "version": 3
   },
   "file_extension": ".py",
   "mimetype": "text/x-python",
   "name": "python",
   "nbconvert_exporter": "python",
   "pygments_lexer": "ipython3",
   "version": "3.12.0"
  }
 },
 "nbformat": 4,
 "nbformat_minor": 2
}
