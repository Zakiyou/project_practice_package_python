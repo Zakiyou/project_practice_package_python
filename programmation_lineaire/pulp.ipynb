{
 "cells": [
  {
   "cell_type": "code",
   "execution_count": 1,
   "metadata": {},
   "outputs": [
    {
     "name": "stdout",
     "output_type": "stream",
     "text": [
      "Defaulting to user installation because normal site-packages is not writeable\n",
      "Collecting pulp\n",
      "  Downloading PuLP-2.9.0-py3-none-any.whl (17.7 MB)\n",
      "\u001b[2K     \u001b[90m━━━━━━━━━━━━━━━━━━━━━━━━━━━━━━━━━━━━━━━━\u001b[0m \u001b[32m17.7/17.7 MB\u001b[0m \u001b[31m3.0 MB/s\u001b[0m eta \u001b[36m0:00:00\u001b[0m00:01\u001b[0m00:01\u001b[0m\n",
      "\u001b[?25hInstalling collected packages: pulp\n",
      "Successfully installed pulp-2.9.0\n",
      "Note: you may need to restart the kernel to use updated packages.\n"
     ]
    }
   ],
   "source": [
    "! pip install pulp\n"
   ]
  },
  {
   "cell_type": "code",
   "execution_count": 2,
   "metadata": {},
   "outputs": [],
   "source": [
    "import pulp"
   ]
  },
  {
   "cell_type": "markdown",
   "metadata": {},
   "source": [
    "# Probleme 1 :\n",
    "Supposons que vous dirigez une usine produisant deux produits : Produit A et Produit B. Chaque unité de Produit A nécessite 1 heure de travail et 2 unités de matières premières. Chaque unité de Produit B nécessite 2 heures de travail et 1 unité de matière première.\n",
    "\n",
    "Vous disposez de 100 heures de travail et 80 unités de matières premières. Le profit par unité est de 40 € pour le Produit A et 30 € pour le Produit B. Vous souhaitez déterminer combien d'unités de chaque produit produire pour maximiser votre profit."
   ]
  },
  {
   "cell_type": "code",
   "execution_count": 1,
   "metadata": {},
   "outputs": [
    {
     "ename": "NameError",
     "evalue": "name 'pulp' is not defined",
     "output_type": "error",
     "traceback": [
      "\u001b[1;31m---------------------------------------------------------------------------\u001b[0m",
      "\u001b[1;31mNameError\u001b[0m                                 Traceback (most recent call last)",
      "Cell \u001b[1;32mIn[1], line 3\u001b[0m\n\u001b[0;32m      1\u001b[0m \u001b[38;5;66;03m# Instanciation du probleme \u001b[39;00m\n\u001b[1;32m----> 3\u001b[0m probleme \u001b[38;5;241m=\u001b[39m \u001b[43mpulp\u001b[49m\u001b[38;5;241m.\u001b[39mLpProblem(\u001b[38;5;124m\"\u001b[39m\u001b[38;5;124mMaximisation_du_profit\u001b[39m\u001b[38;5;124m\"\u001b[39m, pulp\u001b[38;5;241m.\u001b[39mLpMaximize)\n",
      "\u001b[1;31mNameError\u001b[0m: name 'pulp' is not defined"
     ]
    }
   ],
   "source": [
    "# Instanciation du probleme \n",
    "\n",
    "probleme = pulp.LpProblem(\"Maximisation_du_profit\", pulp.LpMaximize)"
   ]
  },
  {
   "cell_type": "code",
   "execution_count": 4,
   "metadata": {},
   "outputs": [],
   "source": [
    "# Définition des variables de décision (Dans notre cas les valeurs des unités produites doit être supérieur à 0)\n",
    "x = pulp.LpVariable('produit_A', lowBound=0, cat='Continuous')\n",
    "y = pulp.LpVariable('produit_B', lowBound=0, cat='Continuous')"
   ]
  },
  {
   "cell_type": "code",
   "execution_count": 5,
   "metadata": {},
   "outputs": [],
   "source": [
    "# Définition de la fonction objective\n",
    "probleme += 40 * x + 30 * y, \"profit_total\""
   ]
  },
  {
   "cell_type": "code",
   "execution_count": 6,
   "metadata": {},
   "outputs": [],
   "source": [
    "# Ajout des contraintes\n",
    "probleme += 1 * x + 2 * y <= 100, \"contrainte_heures\"\n",
    "probleme += 2 * x + 1 * y <= 80, \"contrainte_matières\""
   ]
  },
  {
   "cell_type": "code",
   "execution_count": 7,
   "metadata": {},
   "outputs": [
    {
     "name": "stdout",
     "output_type": "stream",
     "text": [
      "Welcome to the CBC MILP Solver \n",
      "Version: 2.10.3 \n",
      "Build Date: Dec 15 2019 \n",
      "\n",
      "command line - /home/zakiyou/.local/lib/python3.10/site-packages/pulp/solverdir/cbc/linux/64/cbc /tmp/ebafbff8e126473cb063aa93e066d367-pulp.mps -max -timeMode elapsed -branch -printingOptions all -solution /tmp/ebafbff8e126473cb063aa93e066d367-pulp.sol (default strategy 1)\n",
      "At line 2 NAME          MODEL\n",
      "At line 3 ROWS\n",
      "At line 7 COLUMNS\n",
      "At line 14 RHS\n",
      "At line 17 BOUNDS\n",
      "At line 18 ENDATA\n",
      "Problem MODEL has 2 rows, 2 columns and 4 elements\n",
      "Coin0008I MODEL read with 0 errors\n",
      "Option for timeMode changed from cpu to elapsed\n",
      "Presolve 2 (0) rows, 2 (0) columns and 4 (0) elements\n",
      "0  Obj -0 Dual inf 70 (2)\n",
      "0  Obj -0 Dual inf 70 (2)\n",
      "2  Obj 2000\n",
      "Optimal - objective value 2000\n",
      "Optimal objective 2000 - 2 iterations time 0.002\n",
      "Option for printingOptions changed from normal to all\n",
      "Total time (CPU seconds):       0.00   (Wallclock seconds):       0.00\n",
      "\n"
     ]
    },
    {
     "data": {
      "text/plain": [
       "1"
      ]
     },
     "execution_count": 7,
     "metadata": {},
     "output_type": "execute_result"
    }
   ],
   "source": [
    "# Résolution du problème\n",
    "\n",
    "probleme.solve()"
   ]
  },
  {
   "cell_type": "code",
   "execution_count": 8,
   "metadata": {},
   "outputs": [
    {
     "name": "stdout",
     "output_type": "stream",
     "text": [
      "Statut: Optimal\n",
      "produit_A = 20.0\n",
      "produit_B = 40.0\n",
      "Profit Total = 2000.0\n"
     ]
    }
   ],
   "source": [
    "# Affichage des résultats\n",
    "print(\"Statut:\", pulp.LpStatus[probleme.status])\n",
    "\n",
    "for variable in probleme.variables():\n",
    "    print(f\"{variable.name} = {variable.varValue}\")\n",
    "\n",
    "print(\"Profit total =\", pulp.value(probleme.objective))"
   ]
  },
  {
   "cell_type": "markdown",
   "metadata": {},
   "source": [
    "# Problème 2:\n",
    "Un agriculteur produit des concombres et des oignons. Son objectif est d’en produire un maximum (en terme de\n",
    "poids). Le rendement des concombres est de 4 Kg/m2 et celui des oignons est de 5 Kg/m2. Afin d’augmenter la\n",
    "production, l’agriculteur utilise deux types de fertilisants A et B. L’agriculteur dispose de 8 litres de fertilisantsA et de 7 litres de fertilisants B. Concernant le fertilisant A, il en utilise 2 L/m2 pour les concombres et 1 L/m2pour les oignons. Pour le fertilisant B, il en utilise 1 L/m2 pour les concombres et 2 L/m2 pour les oignons.\n",
    "Pour lutter contre les parasites il dispose de 3 litres d’anti-parasites qu’il utilise pour protéger les oignons et\n",
    "qu’il répartit en 1 L/m2.\n"
   ]
  },
  {
   "cell_type": "code",
   "execution_count": 10,
   "metadata": {},
   "outputs": [],
   "source": [
    "\n",
    "# Définition du problème\n",
    "probleme = pulp.LpProblem(\"Maximisation_poids_produits\", pulp.LpMaximize)"
   ]
  },
  {
   "cell_type": "code",
   "execution_count": 11,
   "metadata": {},
   "outputs": [],
   "source": [
    "# Définition des variables de décision\n",
    "# x = Surface cultivée en m² pour les concombres\n",
    "# y = Surface cultivée en m² pour les oignons\n",
    "x = pulp.LpVariable('Concombres', lowBound=0, cat='Continuous')\n",
    "y = pulp.LpVariable('Oignons', lowBound=0, cat='Continuous')"
   ]
  },
  {
   "cell_type": "code",
   "execution_count": 12,
   "metadata": {},
   "outputs": [],
   "source": [
    "# Définition de la fonction objective\n",
    "\n",
    "probleme += 4 * x + 5 * y, \"poids_total\""
   ]
  },
  {
   "cell_type": "code",
   "execution_count": 13,
   "metadata": {},
   "outputs": [],
   "source": [
    "# Ajout des contraintes\n",
    "# Contraintes sur le fertilisant A\n",
    "probleme += 2 * x + 1 * y <= 8, \"contrainte_fertil_A\"\n",
    "# Contraintes sur le fertilisant B\n",
    "probleme += 1 * x + 2 * y <= 7, \"contrainte_fertil_B\"\n",
    "# Contrainte sur l'anti-parasites pour les oignons\n",
    "probleme += y <= 3, \"contrainte_anti_parasites\""
   ]
  },
  {
   "cell_type": "code",
   "execution_count": 14,
   "metadata": {},
   "outputs": [
    {
     "name": "stdout",
     "output_type": "stream",
     "text": [
      "Welcome to the CBC MILP Solver \n",
      "Version: 2.10.3 \n",
      "Build Date: Dec 15 2019 \n",
      "\n",
      "command line - /home/zakiyou/.local/lib/python3.10/site-packages/pulp/solverdir/cbc/linux/64/cbc /tmp/ed7a6da024cc411d87ba6b29d6cb743d-pulp.mps -max -timeMode elapsed -branch -printingOptions all -solution /tmp/ed7a6da024cc411d87ba6b29d6cb743d-pulp.sol (default strategy 1)\n",
      "At line 2 NAME          MODEL\n",
      "At line 3 ROWS\n",
      "At line 8 COLUMNS\n",
      "At line 16 RHS\n",
      "At line 20 BOUNDS\n",
      "At line 21 ENDATA\n",
      "Problem MODEL has 3 rows, 2 columns and 5 elements\n",
      "Coin0008I MODEL read with 0 errors\n",
      "Option for timeMode changed from cpu to elapsed\n",
      "Presolve 2 (-1) rows, 2 (0) columns and 4 (-1) elements\n",
      "0  Obj -0 Dual inf 8.999998 (2)\n",
      "2  Obj 22\n",
      "Optimal - objective value 22\n",
      "After Postsolve, objective 22, infeasibilities - dual 0 (0), primal 0 (0)\n",
      "Optimal objective 22 - 2 iterations time 0.002, Presolve 0.00\n",
      "Option for printingOptions changed from normal to all\n",
      "Total time (CPU seconds):       0.00   (Wallclock seconds):       0.00\n",
      "\n"
     ]
    },
    {
     "data": {
      "text/plain": [
       "1"
      ]
     },
     "execution_count": 14,
     "metadata": {},
     "output_type": "execute_result"
    }
   ],
   "source": [
    "# Résolution du problème\n",
    "probleme.solve()"
   ]
  },
  {
   "cell_type": "code",
   "execution_count": 15,
   "metadata": {},
   "outputs": [
    {
     "name": "stdout",
     "output_type": "stream",
     "text": [
      "Statut: Optimal\n",
      "Concombres = 3.0 m²\n",
      "Oignons = 2.0 m²\n",
      "Poids total = 22.0 Kg\n"
     ]
    }
   ],
   "source": [
    "# Affichage des résultats\n",
    "print(\"Statut:\", pulp.LpStatus[probleme.status])\n",
    "\n",
    "for variable in probleme.variables():\n",
    "    print(f\"{variable.name} = {variable.varValue} m²\")\n",
    "\n",
    "print(\"Poids total =\", pulp.value(probleme.objective), \"Kg\")\n"
   ]
  }
 ],
 "metadata": {
  "kernelspec": {
   "display_name": "Python 3",
   "language": "python",
   "name": "python3"
  },
  "language_info": {
   "codemirror_mode": {
    "name": "ipython",
    "version": 3
   },
   "file_extension": ".py",
   "mimetype": "text/x-python",
   "name": "python",
   "nbconvert_exporter": "python",
   "pygments_lexer": "ipython3",
   "version": "3.12.0"
  }
 },
 "nbformat": 4,
 "nbformat_minor": 2
}
