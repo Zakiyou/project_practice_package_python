{
 "cells": [
  {
   "cell_type": "code",
   "execution_count": null,
   "metadata": {},
   "outputs": [],
   "source": [
    "! pip install sympy "
   ]
  },
  {
   "cell_type": "code",
   "execution_count": 2,
   "metadata": {},
   "outputs": [],
   "source": [
    "import sympy as sp"
   ]
  },
  {
   "cell_type": "markdown",
   "metadata": {},
   "source": [
    "# Resolution de système d'équation\n",
    "2x+3y−z=5\n",
    "4x+y+2z=6\n",
    "−3x+2y+4z=7​"
   ]
  },
  {
   "cell_type": "code",
   "execution_count": 3,
   "metadata": {},
   "outputs": [],
   "source": [
    "# Définition des variables symboliques (bref définition des inconnus)\n",
    "\n",
    "x, y, z = sp.symbols('x y z')"
   ]
  },
  {
   "cell_type": "code",
   "execution_count": 6,
   "metadata": {},
   "outputs": [],
   "source": [
    "# Définition ldes équations du système\n",
    "eq1 = sp.Eq(2*x + 3*y - z, 5)\n",
    "eq2 = sp.Eq(4*x + y + 2*z, 6)\n",
    "eq3 = sp.Eq(-3*x + 2*y + 4*z, 7)"
   ]
  },
  {
   "cell_type": "code",
   "execution_count": 7,
   "metadata": {},
   "outputs": [],
   "source": [
    "# Résolution du système d'équations\n",
    "solution = sp.solve((eq1, eq2, eq3), (x, y, z))\n"
   ]
  },
  {
   "cell_type": "code",
   "execution_count": 8,
   "metadata": {},
   "outputs": [
    {
     "name": "stdout",
     "output_type": "stream",
     "text": [
      "La solution du système est :\n",
      "x = 5/11\n",
      "y = 136/77\n",
      "z = 93/77\n"
     ]
    }
   ],
   "source": [
    "# Affichage des solutions sous forme de fractions\n",
    "print(\"La solution du système est :\")\n",
    "print(f\"x = {solution[x]}\")\n",
    "print(f\"y = {solution[y]}\")\n",
    "print(f\"z = {solution[z]}\")\n"
   ]
  }
 ],
 "metadata": {
  "kernelspec": {
   "display_name": "Python 3",
   "language": "python",
   "name": "python3"
  },
  "language_info": {
   "codemirror_mode": {
    "name": "ipython",
    "version": 3
   },
   "file_extension": ".py",
   "mimetype": "text/x-python",
   "name": "python",
   "nbconvert_exporter": "python",
   "pygments_lexer": "ipython3",
   "version": "3.12.0"
  }
 },
 "nbformat": 4,
 "nbformat_minor": 2
}
