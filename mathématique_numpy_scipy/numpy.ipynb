{
 "cells": [
  {
   "cell_type": "code",
   "execution_count": 1,
   "metadata": {},
   "outputs": [
    {
     "name": "stdout",
     "output_type": "stream",
     "text": [
      "Defaulting to user installation because normal site-packages is not writeable\n",
      "Requirement already satisfied: numpy in c:\\users\\royal computer\\appdata\\roaming\\python\\python312\\site-packages (1.26.4)\n"
     ]
    },
    {
     "name": "stderr",
     "output_type": "stream",
     "text": [
      "\n",
      "[notice] A new release of pip is available: 23.2.1 -> 24.2\n",
      "[notice] To update, run: python.exe -m pip install --upgrade pip\n"
     ]
    }
   ],
   "source": [
    "!  pip install numpy "
   ]
  },
  {
   "cell_type": "code",
   "execution_count": 7,
   "metadata": {},
   "outputs": [],
   "source": [
    "import numpy as np\n",
    "from fractions import Fraction"
   ]
  },
  {
   "cell_type": "markdown",
   "metadata": {},
   "source": [
    "# Création et Manipulation des Tableaux"
   ]
  },
  {
   "cell_type": "code",
   "execution_count": 14,
   "metadata": {},
   "outputs": [
    {
     "name": "stdout",
     "output_type": "stream",
     "text": [
      "[1 2 3 4 5]\n"
     ]
    }
   ],
   "source": [
    "# Création d'un tableau 1D\n",
    "\n",
    "a = np.array([1, 2, 3, 4, 5])\n",
    "print(a) \n",
    "\n"
   ]
  },
  {
   "cell_type": "code",
   "execution_count": 15,
   "metadata": {},
   "outputs": [
    {
     "name": "stdout",
     "output_type": "stream",
     "text": [
      "[[1 2 3]\n",
      " [4 5 6]]\n"
     ]
    }
   ],
   "source": [
    "# Création d'un tableau 2D\n",
    "\n",
    "b = np.array([[1, 2, 3], [4, 5, 6]])\n",
    "print(b)\n"
   ]
  },
  {
   "cell_type": "code",
   "execution_count": 16,
   "metadata": {},
   "outputs": [
    {
     "name": "stdout",
     "output_type": "stream",
     "text": [
      "[[0. 0. 0. 0.]\n",
      " [0. 0. 0. 0.]\n",
      " [0. 0. 0. 0.]]\n"
     ]
    }
   ],
   "source": [
    "# Tableau de zéros\n",
    "zeros = np.zeros((3, 4))\n",
    "print(zeros)"
   ]
  },
  {
   "cell_type": "code",
   "execution_count": 24,
   "metadata": {},
   "outputs": [
    {
     "name": "stdout",
     "output_type": "stream",
     "text": [
      "[[1 1 1]\n",
      " [1 1 1]]\n"
     ]
    }
   ],
   "source": [
    "# Tableau de uns\n",
    "ones = np.ones((2, 3))\n",
    "print(ones)\n"
   ]
  },
  {
   "cell_type": "code",
   "execution_count": 25,
   "metadata": {},
   "outputs": [
    {
     "name": "stdout",
     "output_type": "stream",
     "text": [
      "[[0.74893976 0.11177238]\n",
      " [0.53682781 0.06464362]\n",
      " [0.08606753 0.83609516]]\n"
     ]
    }
   ],
   "source": [
    "# Tableau avec des valeurs aléatoires\n",
    "random = np.random.random((3, 2))\n",
    "print(random)\n"
   ]
  },
  {
   "cell_type": "code",
   "execution_count": 26,
   "metadata": {},
   "outputs": [
    {
     "name": "stdout",
     "output_type": "stream",
     "text": [
      "[ 0  5 10 15]\n"
     ]
    }
   ],
   "source": [
    "# Tableau avec une plage de valeurs\n",
    "range_array = np.arange(0, 20, 5)\n",
    "print(range_array) "
   ]
  },
  {
   "cell_type": "code",
   "execution_count": 27,
   "metadata": {},
   "outputs": [
    {
     "name": "stdout",
     "output_type": "stream",
     "text": [
      "[0 1 2 3 4 5]\n",
      "[[0 1 2]\n",
      " [3 4 5]]\n"
     ]
    }
   ],
   "source": [
    "\n",
    "# Modifier la forme d'un tableau sans changer ses données.\n",
    "a = np.arange(6)\n",
    "print(a) \n",
    "\n",
    "b = a.reshape((2, 3))\n",
    "print(b)\n"
   ]
  },
  {
   "cell_type": "code",
   "execution_count": 28,
   "metadata": {},
   "outputs": [
    {
     "name": "stdout",
     "output_type": "stream",
     "text": [
      "[False False False  True  True  True]\n",
      "[4 5 6]\n"
     ]
    }
   ],
   "source": [
    "# Masquage et filtrage\n",
    "a = np.array([1, 2, 3, 4, 5, 6])\n",
    "mask = a > 3\n",
    "print(mask)      \n",
    "filtered = a[mask]\n",
    "print(filtered)  \n"
   ]
  },
  {
   "cell_type": "markdown",
   "metadata": {},
   "source": [
    "# Opérations Arithmétiques"
   ]
  },
  {
   "cell_type": "code",
   "execution_count": 29,
   "metadata": {},
   "outputs": [
    {
     "name": "stdout",
     "output_type": "stream",
     "text": [
      "[5 7 9]\n",
      "[ 4 10 18]\n",
      "[1 4 9]\n"
     ]
    }
   ],
   "source": [
    "a = np.array([1, 2, 3])\n",
    "b = np.array([4, 5, 6])\n",
    "\n",
    "# Addition\n",
    "c = a + b\n",
    "print(c)  \n",
    "\n",
    "# Multiplication\n",
    "d = a * b\n",
    "print(d) \n",
    "\n",
    "# Exponentiation\n",
    "e = a ** 2\n",
    "print(e) "
   ]
  },
  {
   "cell_type": "markdown",
   "metadata": {},
   "source": [
    "# Matrices et vecteurs"
   ]
  },
  {
   "cell_type": "code",
   "execution_count": 30,
   "metadata": {},
   "outputs": [],
   "source": [
    "# Création de vecteurs\n",
    "v1 = np.array([1, 2, 3])\n",
    "v2 = np.array([4, 5, 6])\n",
    "\n",
    "# Création de matrices\n",
    "m1 = np.array([[1, 2], [3, 4]])\n",
    "m2 = np.array([[5, 6], [7, 8]])"
   ]
  },
  {
   "cell_type": "markdown",
   "metadata": {},
   "source": [
    "# Produit matriciel"
   ]
  },
  {
   "cell_type": "code",
   "execution_count": 31,
   "metadata": {},
   "outputs": [
    {
     "name": "stdout",
     "output_type": "stream",
     "text": [
      "[[19 22]\n",
      " [43 50]]\n",
      "[[19 22]\n",
      " [43 50]]\n"
     ]
    }
   ],
   "source": [
    "result = np.dot(m1, m2)\n",
    "print(result)\n",
    "\n",
    "\n",
    "# Utilisation de l'opérateur @\n",
    "result = m1 @ m2\n",
    "print(result)\n",
    "\n"
   ]
  },
  {
   "cell_type": "markdown",
   "metadata": {},
   "source": [
    "# Déterminant, inverse et rang"
   ]
  },
  {
   "cell_type": "code",
   "execution_count": 32,
   "metadata": {},
   "outputs": [
    {
     "name": "stdout",
     "output_type": "stream",
     "text": [
      "-2.0000000000000004\n",
      "[[-2.   1. ]\n",
      " [ 1.5 -0.5]]\n",
      "2\n"
     ]
    }
   ],
   "source": [
    "# Déterminant\n",
    "det_m1 = np.linalg.det(m1)\n",
    "print(det_m1)\n",
    "\n",
    "# Inverse\n",
    "inv_m1 = np.linalg.inv(m1)\n",
    "print(inv_m1)\n",
    "\n",
    "\n",
    "# Rang\n",
    "rank_m1 = np.linalg.matrix_rank(m1)\n",
    "print(rank_m1)  \n"
   ]
  },
  {
   "cell_type": "markdown",
   "metadata": {},
   "source": [
    "# Moyenne et médiane"
   ]
  },
  {
   "cell_type": "code",
   "execution_count": 34,
   "metadata": {},
   "outputs": [
    {
     "name": "stdout",
     "output_type": "stream",
     "text": [
      "7.2\n",
      "3.0\n"
     ]
    }
   ],
   "source": [
    "a = np.array([1, 2, 3, 25, 5])\n",
    "\n",
    "# Moyenne\n",
    "mean = np.mean(a)\n",
    "print(mean)\n",
    "\n",
    "# Médiane\n",
    "median = np.median(a)\n",
    "print(median) \n",
    "\n"
   ]
  },
  {
   "cell_type": "markdown",
   "metadata": {},
   "source": [
    "# Variance et écart-type\n"
   ]
  },
  {
   "cell_type": "code",
   "execution_count": 35,
   "metadata": {},
   "outputs": [
    {
     "name": "stdout",
     "output_type": "stream",
     "text": [
      "2.0\n",
      "1.4142135623730951\n"
     ]
    }
   ],
   "source": [
    "\n",
    "a = np.array([1, 2, 3, 4, 5])\n",
    "\n",
    "# Variance\n",
    "variance = np.var(a)\n",
    "print(variance) \n",
    "\n",
    "# Écart-type\n",
    "std_dev = np.std(a)\n",
    "print(std_dev) "
   ]
  },
  {
   "cell_type": "markdown",
   "metadata": {},
   "source": [
    "# Corrélation et covariance"
   ]
  },
  {
   "cell_type": "code",
   "execution_count": 36,
   "metadata": {},
   "outputs": [
    {
     "name": "stdout",
     "output_type": "stream",
     "text": [
      "[[ 1. -1.]\n",
      " [-1.  1.]]\n",
      "[[ 2.5 -2.5]\n",
      " [-2.5  2.5]]\n"
     ]
    }
   ],
   "source": [
    "\n",
    "x = np.array([1, 2, 3, 4, 5])\n",
    "y = np.array([5, 4, 3, 2, 1])\n",
    "\n",
    "# Corrélation\n",
    "correlation = np.corrcoef(x, y)\n",
    "print(correlation)\n",
    "\n",
    "\n",
    "# Covariance\n",
    "covariance = np.cov(x, y)\n",
    "print(covariance)"
   ]
  },
  {
   "cell_type": "markdown",
   "metadata": {},
   "source": [
    "# Tri et recherche"
   ]
  },
  {
   "cell_type": "code",
   "execution_count": 37,
   "metadata": {},
   "outputs": [
    {
     "name": "stdout",
     "output_type": "stream",
     "text": [
      "[1 1 2 3 4 5 9]\n",
      "[1 3 6 0 2 4 5]\n",
      "(array([2, 4, 5], dtype=int64),)\n"
     ]
    }
   ],
   "source": [
    "a = np.array([3, 1, 4, 1, 5, 9, 2])\n",
    "\n",
    "# Tri\n",
    "sorted_a = np.sort(a)\n",
    "print(sorted_a) \n",
    "\n",
    "\n",
    "# Recherche des indices où les éléments sont supérieurs à 3\n",
    "indices = np.where(a > 3)\n",
    "print(indices)"
   ]
  },
  {
   "cell_type": "markdown",
   "metadata": {},
   "source": [
    "# Sauvegarde de tableau en binaire et texte\n"
   ]
  },
  {
   "cell_type": "code",
   "execution_count": 39,
   "metadata": {},
   "outputs": [
    {
     "name": "stdout",
     "output_type": "stream",
     "text": [
      "[[1 2 3]\n",
      " [4 5 6]]\n",
      "[[1. 2. 3.]\n",
      " [4. 5. 6.]]\n"
     ]
    }
   ],
   "source": [
    "\n",
    "\n",
    "# Création d'un tableau\n",
    "a = np.array([[1, 2, 3], [4, 5, 6]])\n",
    "\n",
    "# Sauvegarde au format .npy\n",
    "np.save('array.npy', a)\n",
    "\n",
    "# Chargement depuis .npy\n",
    "loaded_a = np.load('array.npy')\n",
    "print(loaded_a)\n",
    "\n",
    "# Sauvegarde au format texte\n",
    "np.savetxt('array.txt', a, delimiter=',')\n",
    "\n",
    "# Chargement depuis texte\n",
    "loaded_a_txt = np.loadtxt('array.txt', delimiter=',')\n",
    "print(loaded_a_txt)"
   ]
  },
  {
   "cell_type": "markdown",
   "metadata": {},
   "source": [
    "# Resolution de système d'équation\n",
    "2x+3y−z=5\n",
    "4x+y+2z=6\n",
    "−3x+2y+4z=7​"
   ]
  },
  {
   "cell_type": "code",
   "execution_count": 9,
   "metadata": {},
   "outputs": [],
   "source": [
    "\n",
    "# Définition de la matrice des coefficients \n",
    "A = np.array([\n",
    "    [2, 3, -1],\n",
    "    [4, 1, 2],\n",
    "    [-3, 2, 4]\n",
    "], dtype=float)"
   ]
  },
  {
   "cell_type": "code",
   "execution_count": 10,
   "metadata": {},
   "outputs": [],
   "source": [
    "\n",
    "# Définition du vecteur des constantes \n",
    "B = np.array([5, 6, 7], dtype=float)\n"
   ]
  },
  {
   "cell_type": "code",
   "execution_count": 12,
   "metadata": {},
   "outputs": [
    {
     "name": "stdout",
     "output_type": "stream",
     "text": [
      "La solution du système est :\n",
      "x = 5/11\n",
      "y = 136/77\n",
      "z = 93/77\n"
     ]
    }
   ],
   "source": [
    "\n",
    "# Vérification si la matrice A est inversible\n",
    "if np.linalg.det(A) != 0:\n",
    "    # Résolution du système d'équations\n",
    "    solution = np.linalg.solve(A, B)\n",
    "    print(\"La solution du système est :\")\n",
    "    print(f\"x = {Fraction(solution[0]).limit_denominator()}\")\n",
    "    print(f\"y = {Fraction(solution[1]).limit_denominator()}\")\n",
    "    print(f\"z = {Fraction(solution[2]).limit_denominator()}\")\n",
    "else:\n",
    "    print(\"Le système n'a pas de solution unique.\")\n"
   ]
  }
 ],
 "metadata": {
  "kernelspec": {
   "display_name": "Python 3",
   "language": "python",
   "name": "python3"
  },
  "language_info": {
   "codemirror_mode": {
    "name": "ipython",
    "version": 3
   },
   "file_extension": ".py",
   "mimetype": "text/x-python",
   "name": "python",
   "nbconvert_exporter": "python",
   "pygments_lexer": "ipython3",
   "version": "3.12.0"
  }
 },
 "nbformat": 4,
 "nbformat_minor": 2
}
